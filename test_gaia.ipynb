{
  "nbformat": 4,
  "nbformat_minor": 0,
  "metadata": {
    "colab": {
      "name": "test_gaia.ipynb",
      "version": "0.3.2",
      "provenance": [],
      "collapsed_sections": [],
      "include_colab_link": true
    },
    "kernelspec": {
      "name": "python2",
      "display_name": "Python 2"
    }
  },
  "cells": [
    {
      "cell_type": "markdown",
      "metadata": {
        "id": "view-in-github",
        "colab_type": "text"
      },
      "source": [
        "<a href=\"https://colab.research.google.com/github/suafle/Clase2/blob/master/test_gaia.ipynb\" target=\"_parent\"><img src=\"https://colab.research.google.com/assets/colab-badge.svg\" alt=\"Open In Colab\"/></a>"
      ]
    },
    {
      "cell_type": "code",
      "metadata": {
        "id": "3CJDlTNNhWC1",
        "colab_type": "code",
        "colab": {}
      },
      "source": [
        "#--quiet is to show less information (Warinings, errors, and so on) when installing\n",
        "#--pre is to install the pre-releases\n",
        "!pip install --pre  --quiet astroquery"
      ],
      "execution_count": 0,
      "outputs": []
    },
    {
      "cell_type": "code",
      "metadata": {
        "id": "jr5PhW9objoo",
        "colab_type": "code",
        "colab": {}
      },
      "source": [
        "import numpy as np\n",
        "from astroquery.gaia import Gaia"
      ],
      "execution_count": 0,
      "outputs": []
    },
    {
      "cell_type": "code",
      "metadata": {
        "id": "O3t4Y3oLhN6z",
        "colab_type": "code",
        "outputId": "d0cb81c4-af97-4b68-8a14-334a656f4042",
        "colab": {
          "base_uri": "https://localhost:8080/",
          "height": 68
        }
      },
      "source": [
        "tables = Gaia.load_tables(only_names=True) #Load tables"
      ],
      "execution_count": 14,
      "outputs": [
        {
          "output_type": "stream",
          "text": [
            "INFO: Retrieving tables... [astroquery.utils.tap.core]\n",
            "INFO: Parsing tables... [astroquery.utils.tap.core]\n",
            "INFO: Done. [astroquery.utils.tap.core]\n"
          ],
          "name": "stdout"
        }
      ]
    },
    {
      "cell_type": "code",
      "metadata": {
        "id": "T2h1FH30ll5l",
        "colab_type": "code",
        "colab": {}
      },
      "source": [
        "#Just to check the tables\n",
        "for i in tables:\n",
        "  print i.get_qualified_name() #print i shows all the details on the tables, get_qualified_name() shows a short name"
      ],
      "execution_count": 0,
      "outputs": []
    },
    {
      "cell_type": "code",
      "metadata": {
        "id": "0_J6ePArcabT",
        "colab_type": "code",
        "colab": {}
      },
      "source": [
        "data = Gaia.launch_job(\"\"\"SELECT TOP 2000 gaia_source.source_id,gaia_source.ra,gaia_source.ra_error,gaia_source.dec,gaia_source.dec_error,gaia_source.phot_g_mean_mag,gaia_source.bp_rp,gaia_source.g_rp,gaia_source.phot_variable_flag,gaia_source.teff_val,gaia_source.a_g_val,gaia_source.radius_val,gaia_source.lum_val\n",
        "FROM gaiadr2.gaia_source\"\"\")"
      ],
      "execution_count": 0,
      "outputs": []
    },
    {
      "cell_type": "code",
      "metadata": {
        "id": "RhH3-4gapD-8",
        "colab_type": "code",
        "outputId": "dd49bb19-ab4a-49b2-a816-a760b452b684",
        "colab": {
          "base_uri": "https://localhost:8080/",
          "height": 187
        }
      },
      "source": [
        "table = Gaia.load_table('gaiadr1.gaia_source')\n",
        "print table\n",
        "#table.columns\n",
        "table\n",
        "#To check the available columns\n",
        "#for column in (table.columns):\n",
        "#  print column.name\n",
        "#table.columns['phot_g_mean_flux']\n",
        "#phot_g_mean_flux_error\n",
        "#phot_g_mean_mag"
      ],
      "execution_count": 15,
      "outputs": [
        {
          "output_type": "stream",
          "text": [
            "Retrieving table 'gaiadr1.gaia_source'\n",
            "Parsing table 'gaiadr1.gaia_source'...\n",
            "Done.\n",
            "TAP Table name: gaiadr1.gaiadr1.gaia_source\n",
            "Description: This table has an entry for every Gaia observed source as listed in the\n",
            "Main Database accumulating catalogue version from which the catalogue\n",
            "release has been generated. It contains the basic source parameters,\n",
            "that is only final data (no epoch data) and no spectra (neither final\n",
            "nor epoch).\n",
            "Num. columns: 57\n"
          ],
          "name": "stdout"
        }
      ]
    }
  ]
}