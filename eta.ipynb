{
  "nbformat": 4,
  "nbformat_minor": 0,
  "metadata": {
    "colab": {
      "name": "eta.ipynb",
      "provenance": [],
      "authorship_tag": "ABX9TyPGdVWKBwVDdkSyq2yfUPwA",
      "include_colab_link": true
    },
    "kernelspec": {
      "name": "python3",
      "display_name": "Python 3"
    }
  },
  "cells": [
    {
      "cell_type": "markdown",
      "metadata": {
        "id": "view-in-github",
        "colab_type": "text"
      },
      "source": [
        "<a href=\"https://colab.research.google.com/github/suafle/Clase2/blob/master/eta.ipynb\" target=\"_parent\"><img src=\"https://colab.research.google.com/assets/colab-badge.svg\" alt=\"Open In Colab\"/></a>"
      ]
    },
    {
      "cell_type": "code",
      "metadata": {
        "id": "FcaJ5oTmQyH4",
        "colab_type": "code",
        "colab": {}
      },
      "source": [
        "import time\n",
        "import random\n",
        "import matplotlib\n",
        "import numpy as np\n",
        "import matplotlib.pyplot as plt\n",
        "import pandas as pd\n",
        "from google.colab import files\n",
        "from scipy.interpolate import interpn\n",
        "from scipy.interpolate import interp1d\n",
        "from scipy.stats import gaussian_kde\n",
        "from astropy.coordinates import SkyCoord\n",
        "from astropy.table import Table\n",
        "from matplotlib.colors import ListedColormap, BoundaryNorm\n",
        "from astropy import units as u\n",
        "from astropy.io import fits"
      ],
      "execution_count": 0,
      "outputs": []
    },
    {
      "cell_type": "code",
      "metadata": {
        "id": "zH7-07yIT9Kg",
        "colab_type": "code",
        "colab": {}
      },
      "source": [
        "#GAIA passbands\n",
        "gaia_data = 'https://raw.githubusercontent.com/suafle/useful_data/master/Passbands/GAIADR2/GaiaDR2_RevisedPassbands.dat'\n",
        "gaia = np.loadtxt(gaia_data)\n",
        "\n",
        "gaia = np.where(gaia==99.99,0,gaia)\n",
        "\n",
        "gaia_w = gaia[:,0]*10 #Angstrom\n",
        "gaia_g = gaia[:,1]\n",
        "gaia_bp = gaia[:,3]\n",
        "gaia_rp = gaia[:,5]\n",
        "\n",
        "def inter_g(wavelength): \n",
        "  f = interp1d(gaia_w,gaia_g)\n",
        "  return f(wavelength)\n",
        "  \n",
        "def inter_gbp(wavelength): \n",
        "  f = interp1d(gaia_w,gaia_bp)\n",
        "  return f(wavelength)\n",
        "  \n",
        "def inter_grp(wavelength): \n",
        "  f = interp1d(gaia_w,gaia_rp)\n",
        "  return f(wavelength)\n",
        "\n",
        "\n",
        "#WISE passbands\n",
        "wise1_data = 'https://raw.githubusercontent.com/suafle/useful_data/master/Passbands/WISE/RSR-W1.txt'\n",
        "wise2_data = 'https://raw.githubusercontent.com/suafle/useful_data/master/Passbands/WISE/RSR-W2.txt'\n",
        "wise3_data = 'https://raw.githubusercontent.com/suafle/useful_data/master/Passbands/WISE/RSR-W3.txt'\n",
        "wise4_data = 'https://raw.githubusercontent.com/suafle/useful_data/master/Passbands/WISE/RSR-W4.txt'\n",
        "\n",
        "w1 = np.loadtxt(wise1_data)\n",
        "w2 = np.loadtxt(wise2_data)\n",
        "w3 = np.loadtxt(wise3_data)\n",
        "w4 = np.loadtxt(wise4_data)\n",
        "\n",
        "w1ww = w1[:,0]*1e4\n",
        "w1r = w1[:,1]\n",
        "\n",
        "w2ww = w2[:,0]*1e4\n",
        "w2r = w2[:,1]\n",
        "\n",
        "w3ww = w3[:,0]*1e4\n",
        "w3r = w3[:,1]\n",
        "\n",
        "w4ww = w4[:,0]*1e4\n",
        "w4r = w4[:,1]\n",
        "\n",
        "#wavelength must be between 25300 and 65000 A (W1)\n",
        "#wavelength must be between 25300 and 80000 A (W1)\n",
        "#wavelength must be between 25300 and 285000 A (W1)\n",
        "#wavelength must be between 25300 and 285000 A (W1)\n",
        "\n",
        "\n",
        "def inter_w1(wavelength): \n",
        "  f = interp1d(w1ww,w1r)\n",
        "  return f(wavelength)\n",
        "  \n",
        "def inter_w2(wavelength): \n",
        "  f = interp1d(w2ww,w2r)\n",
        "  return f(wavelength)\n",
        "\n",
        "def inter_w3(wavelength): \n",
        "  f = interp1d(w3ww,w3r)\n",
        "  return f(wavelength)\n",
        "\n",
        "def inter_w4(wavelength): \n",
        "  f = interp1d(w4ww,w4r)\n",
        "  return f(wavelength)\n"
      ],
      "execution_count": 0,
      "outputs": []
    },
    {
      "cell_type": "code",
      "metadata": {
        "id": "AbFYAm-fQ4U0",
        "colab_type": "code",
        "colab": {}
      },
      "source": [
        "#Comparing etas\n",
        "\n",
        "#Blackbody plot\n",
        "def bb(Teff,Lbol): \n",
        "  c = 2.99792e8 #m s^-1\n",
        "  cA = c*1e10 #A s**-1\n",
        "  h = 6.62618e-34 #J s\n",
        "  k = 1.38066e-23 #J K^-1\n",
        "  pc = 3.0857e16 #m\n",
        "  Rsun = 695e6 #m\n",
        "  Lsun = 3.846e26 # W\n",
        "  sigma_SB = 5.67e-8 #W m^-2 K^-4\n",
        "  delta_wave = 100 #Å\n",
        "  wave_vector = np.arange(1000,3e7,delta_wave) #Check the graph above (also in A)\n",
        "  d = 10 #pc, to account for absolute magnitudes\n",
        "  \n",
        "  #Generate black body spectrum in f_lambda units\n",
        "  #-----------------------------------------\n",
        "  flambda_BB_SI = (2.*np.pi*h*c**2)/((wave_vector*1e-10)**5)*(1./(np.exp(h*c/(wave_vector*1e-10*k*Teff))-1)) # W m^-2 m^-1 (Flux at the surface)\n",
        "  flambda_BB_SI = flambda_BB_SI/1e7 # erg s**-1 cm**-2 A**-1\n",
        "  R = np.sqrt(Lbol*Lsun/(4.*np.pi*sigma_SB*Teff**4)) # m Source radius (considering we know Lbol and Teff)\n",
        "  flux = flambda_BB_SI*(R/(d*pc))**2 #Flux from the source at 10 pc\n",
        "  \n",
        "  fgaia = interp1d(wave_vector,flux)\n",
        "\n",
        "  ww = np.arange(3000,11000,1)\n",
        "  g = np.trapz(fgaia(ww) * inter_g(ww) * ww, x=ww) / np.trapz(inter_g(ww) * cA / ww, x=ww)\n",
        "\n",
        "  ww = np.arange(25300,285000,1)\n",
        "  w3 = np.trapz(fgaia(ww) * inter_w3(ww) * ww, x=ww) / np.trapz(inter_w3(ww) * cA / ww, x=ww)\n",
        "\n",
        "  ww = np.arange(25300,285000,1)  \n",
        "  w4 = np.trapz(fgaia(ww) * inter_w4(ww) * ww, x=ww) / np.trapz(inter_w4(ww) * cA / ww, x=ww)\n",
        "  \n",
        "  return(wave_vector,flux,g,w3,w4)"
      ],
      "execution_count": 0,
      "outputs": []
    },
    {
      "cell_type": "code",
      "metadata": {
        "id": "iaDJ05wWTRkh",
        "colab_type": "code",
        "colab": {
          "base_uri": "https://localhost:8080/",
          "height": 70
        },
        "outputId": "40a48446-1366-4b42-ee18-13a76292382f"
      },
      "source": [
        "print(bb(5777,1))"
      ],
      "execution_count": 34,
      "outputs": [
        {
          "output_type": "stream",
          "text": [
            "(array([1.00000e+03, 1.10000e+03, 1.20000e+03, ..., 2.99997e+07,\n",
            "       2.99998e+07, 2.99999e+07]), array([2.90729435e-16, 1.73710072e-15, 7.41819736e-15, ...,\n",
            "       9.43714376e-25, 9.43701795e-25, 9.43689214e-25]), 4.332602248335988e-22, 1.8561037204222648e-23, 4.989496577946066e-24)\n"
          ],
          "name": "stdout"
        }
      ]
    },
    {
      "cell_type": "code",
      "metadata": {
        "id": "o3iAaQ4rTcHR",
        "colab_type": "code",
        "colab": {
          "base_uri": "https://localhost:8080/",
          "height": 588
        },
        "outputId": "c77daaa2-fc69-429a-95e2-b270a5b5ab7d"
      },
      "source": [
        "wave1,flux1,g1,w1,ww1 = bb(5777,1)\n",
        "wave2,flux2,g2,w2,ww2 = bb(5777,0.1)\n",
        "wave3,flux2,g3,w3,ww3 = bb(5777,0.01)\n",
        "wave4,flux2,g4,w4,ww4 = bb(5777,0.001)\n",
        "wave5,flux2,g5,w5,ww5 = bb(5777,0.0001)\n",
        "wave6,flux2,g6,w6,ww6 = bb(5777,0.00001)\n",
        "wave7,flux2,g7,w7,ww7 = bb(5777,0.000001)\n",
        "\n",
        "print(g1/g2)\n",
        "print(g1/g3)\n",
        "print(g1/g4)\n",
        "print(g1/g5)\n",
        "print(g1/g6)\n",
        "print(g1/g7)\n",
        "\n",
        "\n",
        "print(w1/w2)\n",
        "print(w1/w3)\n",
        "print(w1/w4)\n",
        "print(w1/w5)\n",
        "print(w1/w6)\n",
        "print(w1/w7)\n",
        "\n",
        "\n",
        "print(ww1/ww2)\n",
        "print(ww1/ww3)\n",
        "print(ww1/ww4)\n",
        "print(ww1/ww5)\n",
        "print(ww1/ww6)\n",
        "print(ww1/ww7)\n",
        "\n",
        "\n",
        "\n",
        "plt.plot(wave,flux)\n",
        "plt.plot(wave2,flux2)\n",
        "plt.xscale('log')\n",
        "plt.yscale('log')\n",
        "plt.show()\n",
        "plt.close()"
      ],
      "execution_count": 36,
      "outputs": [
        {
          "output_type": "stream",
          "text": [
            "9.999999999999995\n",
            "99.99999999999999\n",
            "1000.0\n",
            "10000.0\n",
            "99999.99999999999\n",
            "1000000.0\n",
            "9.999999999999993\n",
            "99.99999999999991\n",
            "999.9999999999994\n",
            "9999.999999999998\n",
            "99999.99999999994\n",
            "999999.9999999997\n",
            "9.999999999999998\n",
            "100.0\n",
            "1000.0\n",
            "10000.0\n",
            "99999.99999999999\n",
            "1000000.0000000002\n"
          ],
          "name": "stdout"
        },
        {
          "output_type": "display_data",
          "data": {
            "image/png": "[encoded data removed]",
            "text/plain": [
              "<Figure size 432x288 with 1 Axes>"
            ]
          },
          "metadata": {
            "tags": []
          }
        }
      ]
    },
    {
      "cell_type": "code",
      "metadata": {
        "id": "GoJBenMJTlnq",
        "colab_type": "code",
        "colab": {}
      },
      "source": [
        ""
      ],
      "execution_count": 0,
      "outputs": []
    }
  ]
}