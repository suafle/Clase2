{
  "nbformat": 4,
  "nbformat_minor": 0,
  "metadata": {
    "colab": {
      "name": "checking_cotten.ipynb",
      "provenance": [],
      "include_colab_link": true
    },
    "kernelspec": {
      "name": "python3",
      "display_name": "Python 3"
    }
  },
  "cells": [
    {
      "cell_type": "markdown",
      "metadata": {
        "id": "view-in-github",
        "colab_type": "text"
      },
      "source": [
        "<a href=\"https://colab.research.google.com/github/suafle/Clase2/blob/master/checking_cotten.ipynb\" target=\"_parent\"><img src=\"https://colab.research.google.com/assets/colab-badge.svg\" alt=\"Open In Colab\"/></a>"
      ]
    },
    {
      "cell_type": "code",
      "metadata": {
        "id": "SuMCw5MTDixL",
        "colab_type": "code",
        "outputId": "43a49285-ebbf-4803-ffed-99f26178ab4e",
        "colab": {
          "base_uri": "https://localhost:8080/",
          "height": 119
        }
      },
      "source": [
        "#--quiet is to show less information (Warinings, errors, and so on) when installing\n",
        "#--pre is to install the pre-releases\n",
        "!pip install --pre  --quiet astroquery\n",
        "!pip install --pre  --quiet uncertainties"
      ],
      "execution_count": 1,
      "outputs": [
        {
          "output_type": "stream",
          "text": [
            "\u001b[K     |████████████████████████████████| 4.5MB 2.7MB/s \n",
            "\u001b[K     |████████████████████████████████| 61kB 7.3MB/s \n",
            "\u001b[K     |████████████████████████████████| 2.3MB 36.3MB/s \n",
            "\u001b[?25h  Building wheel for astroquery (setup.py) ... \u001b[?25l\u001b[?25hdone\n",
            "\u001b[K     |████████████████████████████████| 235kB 2.7MB/s \n",
            "\u001b[?25h  Building wheel for uncertainties (setup.py) ... \u001b[?25l\u001b[?25hdone\n"
          ],
          "name": "stdout"
        }
      ]
    },
    {
      "cell_type": "code",
      "metadata": {
        "id": "ElfuTaq_D5iv",
        "colab_type": "code",
        "colab": {}
      },
      "source": [
        "import matplotlib\n",
        "import numpy as np\n",
        "import matplotlib.pyplot as plt\n",
        "import pandas as pd\n",
        "import uncertainties as un\n",
        "from uncertainties import unumpy\n",
        "from scipy.interpolate import interp1d\n",
        "from astropy.coordinates import SkyCoord\n",
        "from astropy.table import Table\n",
        "from matplotlib.colors import ListedColormap, BoundaryNorm\n",
        "from astroquery.vizier import Vizier\n",
        "from astropy import units as u"
      ],
      "execution_count": 0,
      "outputs": []
    },
    {
      "cell_type": "code",
      "metadata": {
        "id": "2jyOTnzQD7SG",
        "colab_type": "code",
        "outputId": "996f9f19-e3f9-4b29-ac73-c19fc04d4b36",
        "colab": {
          "base_uri": "https://localhost:8080/",
          "height": 71
        }
      },
      "source": [
        "#TYC6213-1122-1\n",
        "data = Vizier.query_region(SkyCoord(ra=242.5526666666667,dec=-21.079083333333333,unit=(u.deg, u.deg),frame='icrs'),width=\"2s\",catalog=[\"I/345/gaia2\",\"II/328/allwise\"])\n",
        "#print(data[0].to_pandas())\n",
        "#data0 = data[0].to_pandas()\n",
        "#data1 = data[1].to_pandas()\n",
        "print(data[0].columns)\n",
        "g1 = data[0]['Gmag'][0]\n",
        "e_g1 = data[0]['e_Gmag'][0]\n",
        "bp1 = data[0]['BPmag'][0]\n",
        "e_bp1 = data[0]['e_BPmag'][0]\n",
        "rp1 = data[0]['RPmag'][0]\n",
        "e_rp1 = data[0]['e_RPmag'][0]\n",
        "print(data[1].columns)\n",
        "j1 = data[1]['Jmag'][0]\n",
        "e_j1 = data[1]['e_Jmag'][0]\n",
        "h1 = data[1]['Hmag'][0]\n",
        "e_h1 = data[1]['e_Hmag'][0]\n",
        "k1 = data[1]['Kmag'][0]\n",
        "e_k1 = data[1]['e_Kmag'][0]\n",
        "w1_1 = data[1]['W1mag'][0]\n",
        "e_w1_1 = data[1]['e_W1mag'][0]\n",
        "w2_1 = data[1]['W2mag'][0]\n",
        "e_w2_1 = data[1]['e_W2mag'][0]\n",
        "w3_1 = data[1]['W3mag'][0]\n",
        "e_w3_1 = data[1]['e_W3mag'][0]\n",
        "w4_1 = data[1]['W4mag'][0]\n",
        "e_w4_1 = data[1]['e_W4mag'][0]\n",
        "\n",
        "u_j1 = unumpy.uarray(j1,e_j1)\n",
        "u_h1 = unumpy.uarray(h1,e_h1)\n",
        "u_k1 = unumpy.uarray(k1,e_k1)\n",
        "u_w1_1 = unumpy.uarray(w1_1,e_w1_1)\n",
        "u_w2_1 = unumpy.uarray(w2_1,e_w2_1)\n",
        "u_w3_1 = unumpy.uarray(w3_1,e_w3_1)\n",
        "u_w4_1 = unumpy.uarray(w4_1,e_w4_1)\n",
        "\n",
        "u_Jf1 = 1594*10**(-1.*u_j1/2.5)\n",
        "u_Hf1 = 1024*10**(-1.*u_h1/2.5)\n",
        "u_Kf1 = 666.7*10**(-1.*u_k1/2.5)\n",
        "u_W1f1 = 309.540*10**(-1.*u_w1_1/2.5)\n",
        "u_W2f1 = 171.787*10**(-1.*u_w2_1/2.5)\n",
        "u_W3f1 = 31.674*10**(-1.*u_w3_1/2.5)\n",
        "u_W4f1 = 8.636*10**(-1.*u_w4_1/2.5)\n",
        "\n",
        "mags = [j1,h1,k1,w1_1,w2_1,w3_1,w4_1]\n",
        "e_ma = [e_j1,e_h1,e_k1,e_w1_1,e_w2_1,e_w3_1,e_w4_1]\n",
        "\n",
        "u_flux = np.array([u_Jf1,u_Hf1,u_Kf1,u_W1f1,u_W2f1,u_W3f1,u_W4f1])\n",
        "\n",
        "waves = [12355,16458,21603,3.4e4,4.6e4,12e4,22e4]"
      ],
      "execution_count": 43,
      "outputs": [
        {
          "output_type": "stream",
          "text": [
            "<TableColumns names=('RA_ICRS','e_RA_ICRS','DE_ICRS','e_DE_ICRS','Source','Plx','e_Plx','pmRA','e_pmRA','pmDE','e_pmDE','Dup','FG','e_FG','Gmag','e_Gmag','FBP','e_FBP','BPmag','e_BPmag','FRP','e_FRP','RPmag','e_RPmag','BP-RP','RV','e_RV','Teff','AG','E_BP-RP_','Rad','Lum')>\n",
            "<TableColumns names=('AllWISE','RAJ2000','DEJ2000','Im','W1mag','e_W1mag','W2mag','e_W2mag','W3mag','e_W3mag','W4mag','e_W4mag','Jmag','e_Jmag','Hmag','e_Hmag','Kmag','e_Kmag','ccf','ex','var','pmRA','e_pmRA','pmDE','e_pmDE','qph','d2M','_2M')>\n"
          ],
          "name": "stdout"
        }
      ]
    },
    {
      "cell_type": "code",
      "metadata": {
        "id": "SbW9CnrYGXB6",
        "colab_type": "code",
        "outputId": "7746bab5-e0d2-4d1f-d928-06f8ad380aff",
        "colab": {
          "base_uri": "https://localhost:8080/",
          "height": 549
        }
      },
      "source": [
        "plt.errorbar(waves,mags,yerr=e_ma,fmt='o')\n",
        "plt.xscale('log')\n",
        "plt.xlabel('Wavelength [A]')\n",
        "plt.ylabel('Magnitudes Vega')\n",
        "plt.gca().invert_yaxis()\n",
        "plt.show()\n",
        "plt.close()\n",
        "\n",
        "plt.errorbar(waves,unumpy.nominal_values(u_flux),yerr=unumpy.std_devs(u_flux),fmt='o')\n",
        "plt.xscale('log')\n",
        "plt.yscale('log')\n",
        "plt.xlabel('Wavelength [A]')\n",
        "plt.ylabel('Spectral Flux [Jy]')\n",
        "plt.show()\n",
        "plt.close()\n"
      ],
      "execution_count": 46,
      "outputs": [
        {
          "output_type": "display_data",
          "data": {
            "image/png": "[encoded data removed]",
            "text/plain": [
              "<Figure size 432x288 with 1 Axes>"
            ]
          },
          "metadata": {
            "tags": []
          }
        },
        {
          "output_type": "display_data",
          "data": {
            "image/png": "[encoded data removed]",
            "text/plain": [
              "<Figure size 432x288 with 1 Axes>"
            ]
          },
          "metadata": {
            "tags": []
          }
        }
      ]
    },
    {
      "cell_type": "code",
      "metadata": {
        "id": "9OmzKmSnGbd8",
        "colab_type": "code",
        "colab": {}
      },
      "source": [
        ""
      ],
      "execution_count": 0,
      "outputs": []
    }
  ]
}