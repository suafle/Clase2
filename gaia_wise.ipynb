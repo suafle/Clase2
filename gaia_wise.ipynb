{
  "nbformat": 4,
  "nbformat_minor": 0,
  "metadata": {
    "colab": {
      "name": "gaia_wise.ipynb",
      "provenance": [],
      "include_colab_link": true
    },
    "kernelspec": {
      "name": "python3",
      "display_name": "Python 3"
    }
  },
  "cells": [
    {
      "cell_type": "markdown",
      "metadata": {
        "id": "view-in-github",
        "colab_type": "text"
      },
      "source": [
        "<a href=\"https://colab.research.google.com/github/suafle/Clase2/blob/master/gaia_wise.ipynb\" target=\"_parent\"><img src=\"https://colab.research.google.com/assets/colab-badge.svg\" alt=\"Open In Colab\"/></a>"
      ]
    },
    {
      "cell_type": "code",
      "metadata": {
        "id": "3CJDlTNNhWC1",
        "colab_type": "code",
        "colab": {}
      },
      "source": [
        "#--quiet is to show less information (Warinings, errors, and so on) when installing\n",
        "#--pre is to install the pre-releases\n",
        "!pip install --pre  --quiet astroquery"
      ],
      "execution_count": 0,
      "outputs": []
    },
    {
      "cell_type": "code",
      "metadata": {
        "id": "Uv-A3qlMbR83",
        "colab_type": "code",
        "outputId": "1031285d-ef90-40a6-f488-20901bbfefb0",
        "colab": {
          "base_uri": "https://localhost:8080/",
          "height": 34
        }
      },
      "source": [
        "import matplotlib\n",
        "import numpy as np\n",
        "import matplotlib.pyplot as plt\n",
        "import pandas as pd\n",
        "from scipy.interpolate import interp1d\n",
        "from astroquery.xmatch import XMatch\n",
        "from astropy.coordinates import SkyCoord\n",
        "from astropy import units as u"
      ],
      "execution_count": 2,
      "outputs": [
        {
          "output_type": "stream",
          "text": [
            "Could not import regions, which is required for some of the functionalities of this module.\n"
          ],
          "name": "stdout"
        }
      ]
    },
    {
      "cell_type": "code",
      "metadata": {
        "id": "MfvwaSMObZd4",
        "colab_type": "code",
        "colab": {}
      },
      "source": [
        "#Cotten Data\n",
        "#Cotten After matching prime data\n",
        "df_excess = pd.read_csv('https://github.com/suafle/useful_data/raw/master/Catalogs/Cotten_prime.csv')\n",
        "df_excess = df_excess.dropna(subset=['Jmag'])\n",
        "\n",
        "ra1 = df_excess['RAJ2000']\n",
        "dec1 = df_excess['DEJ2000']\n",
        "j_e = df_excess['Jmag']\n",
        "h_e = df_excess['Hmag']\n",
        "k_e = df_excess['Kmag']\n",
        "w1_e = df_excess['W1mag']\n",
        "w2_e = df_excess['W2mag']\n",
        "w3_e = df_excess['W3mag']\n",
        "w4_e = df_excess['W4mag']"
      ],
      "execution_count": 0,
      "outputs": []
    },
    {
      "cell_type": "code",
      "metadata": {
        "id": "iU1U6RkStVpD",
        "colab_type": "code",
        "colab": {}
      },
      "source": [
        "#Reading data Xmatch\n",
        "df_xmatch = pd.read_csv('https://github.com/suafle/useful_data/raw/master/Catalogs/xmatch_gaia_cotten.csv')\n",
        "\n",
        "ra2 = df_xmatch['ra']\n",
        "dec2 = df_xmatch['dec']"
      ],
      "execution_count": 0,
      "outputs": []
    },
    {
      "cell_type": "code",
      "metadata": {
        "id": "0ucLq9S-KLMa",
        "colab_type": "code",
        "colab": {}
      },
      "source": [
        "#matching\n",
        "c = SkyCoord(ra=ra1*u.deg,dec=dec1*u.deg)\n",
        "catalog = SkyCoord(ra=ra2*u.deg,dec=dec2*u.deg)\n",
        "idx, d2d, d3d = c.match_to_catalog_sky(catalog) #idx contains the index of the matching"
      ],
      "execution_count": 0,
      "outputs": []
    },
    {
      "cell_type": "code",
      "metadata": {
        "id": "pSYDgIzyjE_I",
        "colab_type": "code",
        "colab": {}
      },
      "source": [
        "#print(df_xmatch.columns)\n",
        "plx = df_xmatch['parallax'][idx]\n",
        "plx.iloc[345] = \t7.9601 #I fixed this by hand by checking alladin\n",
        "dist = 1./plx * 1000 #Dist in pc\n",
        "mu = 5*np.log10(dist) - 5"
      ],
      "execution_count": 0,
      "outputs": []
    },
    {
      "cell_type": "code",
      "metadata": {
        "id": "4pW0UkdOrF02",
        "colab_type": "code",
        "colab": {}
      },
      "source": [
        "J_e = j_e - mu\n",
        "H_e = h_e - mu\n",
        "K_e = k_e - mu\n",
        "W1_e = w1_e - mu\n",
        "W2_e = w2_e - mu\n",
        "W3_e = w3_e - mu\n",
        "W4_e = w4_e - mu"
      ],
      "execution_count": 0,
      "outputs": []
    },
    {
      "cell_type": "code",
      "metadata": {
        "id": "yyW9l6rzGx8f",
        "colab_type": "code",
        "colab": {
          "base_uri": "https://localhost:8080/",
          "height": 279
        },
        "outputId": "282f1f4d-7632-4915-879c-0368486d847d"
      },
      "source": [
        "plt.scatter(j_e-k_e,k_e)\n",
        "plt.xlabel('J - K')\n",
        "plt.ylabel(r'M$_K$')\n",
        "plt.gca().invert_yaxis()\n",
        "plt.show()\n",
        "plt.close()"
      ],
      "execution_count": 21,
      "outputs": [
        {
          "output_type": "display_data",
          "data": {
            "image/png": "[encoded data removed]",
            "text/plain": [
              "<Figure size 432x288 with 1 Axes>"
            ]
          },
          "metadata": {
            "tags": []
          }
        }
      ]
    },
    {
      "cell_type": "code",
      "metadata": {
        "id": "-sr_ICchI9QW",
        "colab_type": "code",
        "colab": {}
      },
      "source": [
        ""
      ],
      "execution_count": 0,
      "outputs": []
    }
  ]
}